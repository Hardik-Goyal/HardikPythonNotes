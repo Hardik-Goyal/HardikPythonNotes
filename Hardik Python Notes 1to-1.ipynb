{
 "cells": [
  {
   "cell_type": "code",
   "execution_count": 2,
   "metadata": {},
   "outputs": [
    {
     "name": "stdout",
     "output_type": "stream",
     "text": [
      "shift enter\n"
     ]
    }
   ],
   "source": [
    "print(\"shift enter\")"
   ]
  },
  {
   "cell_type": "markdown",
   "metadata": {},
   "source": [
    "Here r the notes"
   ]
  },
  {
   "cell_type": "code",
   "execution_count": 3,
   "metadata": {},
   "outputs": [
    {
     "data": {
      "text/plain": [
       "0.6000000000000001"
      ]
     },
     "execution_count": 3,
     "metadata": {},
     "output_type": "execute_result"
    }
   ],
   "source": [
    "2+1-3*4/5"
   ]
  },
  {
   "cell_type": "code",
   "execution_count": 4,
   "metadata": {},
   "outputs": [
    {
     "data": {
      "text/plain": [
       "2"
      ]
     },
     "execution_count": 4,
     "metadata": {},
     "output_type": "execute_result"
    }
   ],
   "source": [
    "6%4"
   ]
  },
  {
   "cell_type": "code",
   "execution_count": 5,
   "metadata": {},
   "outputs": [
    {
     "data": {
      "text/plain": [
       "32"
      ]
     },
     "execution_count": 5,
     "metadata": {},
     "output_type": "execute_result"
    }
   ],
   "source": [
    "2 ** 5"
   ]
  },
  {
   "cell_type": "code",
   "execution_count": 6,
   "metadata": {},
   "outputs": [
    {
     "data": {
      "text/plain": [
       "0.5"
      ]
     },
     "execution_count": 6,
     "metadata": {},
     "output_type": "execute_result"
    }
   ],
   "source": [
    "1/2"
   ]
  },
  {
   "cell_type": "markdown",
   "metadata": {},
   "source": [
    "In python 2 above code would have given answer as 0..."
   ]
  },
  {
   "cell_type": "markdown",
   "metadata": {},
   "source": [
    "Floating point characters are never exact but a visual estimation because machine stores value in the form of binary only."
   ]
  },
  {
   "cell_type": "code",
   "execution_count": 6,
   "metadata": {},
   "outputs": [],
   "source": [
    "a=5"
   ]
  },
  {
   "cell_type": "code",
   "execution_count": 7,
   "metadata": {},
   "outputs": [
    {
     "data": {
      "text/plain": [
       "5"
      ]
     },
     "execution_count": 7,
     "metadata": {},
     "output_type": "execute_result"
    }
   ],
   "source": [
    "a"
   ]
  },
  {
   "cell_type": "code",
   "execution_count": 8,
   "metadata": {},
   "outputs": [],
   "source": [
    "a=10"
   ]
  },
  {
   "cell_type": "code",
   "execution_count": 9,
   "metadata": {},
   "outputs": [
    {
     "data": {
      "text/plain": [
       "10"
      ]
     },
     "execution_count": 9,
     "metadata": {},
     "output_type": "execute_result"
    }
   ],
   "source": [
    "a"
   ]
  },
  {
   "cell_type": "code",
   "execution_count": 10,
   "metadata": {},
   "outputs": [
    {
     "data": {
      "text/plain": [
       "int"
      ]
     },
     "execution_count": 10,
     "metadata": {},
     "output_type": "execute_result"
    }
   ],
   "source": [
    "type(a)"
   ]
  },
  {
   "cell_type": "markdown",
   "metadata": {},
   "source": [
    "Printing Raw strings"
   ]
  },
  {
   "cell_type": "code",
   "execution_count": 1,
   "metadata": {},
   "outputs": [
    {
     "name": "stdout",
     "output_type": "stream",
     "text": [
      "Hey Mr._\\n_ew character \\r\\t \\'_\n"
     ]
    }
   ],
   "source": [
    "print(r'Hey Mr._\\n_ew character \\r\\t \\'_')"
   ]
  },
  {
   "cell_type": "markdown",
   "metadata": {},
   "source": [
    "Data Types"
   ]
  },
  {
   "cell_type": "markdown",
   "metadata": {},
   "source": [
    "We assign a value to variable in python which determines its data type automatically"
   ]
  },
  {
   "cell_type": "code",
   "execution_count": 3,
   "metadata": {},
   "outputs": [
    {
     "ename": "SyntaxError",
     "evalue": "invalid syntax (<ipython-input-3-c47ce2fc38b4>, line 1)",
     "output_type": "error",
     "traceback": [
      "\u001b[1;36m  File \u001b[1;32m\"<ipython-input-3-c47ce2fc38b4>\"\u001b[1;36m, line \u001b[1;32m1\u001b[0m\n\u001b[1;33m    int n\u001b[0m\n\u001b[1;37m        ^\u001b[0m\n\u001b[1;31mSyntaxError\u001b[0m\u001b[1;31m:\u001b[0m invalid syntax\n"
     ]
    }
   ],
   "source": [
    "int n"
   ]
  },
  {
   "cell_type": "code",
   "execution_count": 35,
   "metadata": {},
   "outputs": [
    {
     "ename": "SyntaxError",
     "evalue": "invalid syntax (<ipython-input-35-24b2f6215dfc>, line 1)",
     "output_type": "error",
     "traceback": [
      "\u001b[1;36m  File \u001b[1;32m\"<ipython-input-35-24b2f6215dfc>\"\u001b[1;36m, line \u001b[1;32m1\u001b[0m\n\u001b[1;33m    int n = 10\u001b[0m\n\u001b[1;37m        ^\u001b[0m\n\u001b[1;31mSyntaxError\u001b[0m\u001b[1;31m:\u001b[0m invalid syntax\n"
     ]
    }
   ],
   "source": [
    "int n = 10"
   ]
  },
  {
   "cell_type": "code",
   "execution_count": 15,
   "metadata": {},
   "outputs": [],
   "source": [
    "n=10"
   ]
  },
  {
   "cell_type": "markdown",
   "metadata": {},
   "source": [
    "String (Immutable Data Type)"
   ]
  },
  {
   "cell_type": "code",
   "execution_count": 2,
   "metadata": {},
   "outputs": [],
   "source": [
    "name='Haedik'"
   ]
  },
  {
   "cell_type": "code",
   "execution_count": 3,
   "metadata": {},
   "outputs": [
    {
     "ename": "TypeError",
     "evalue": "'str' object does not support item assignment",
     "output_type": "error",
     "traceback": [
      "\u001b[1;31m---------------------------------------------------------------------------\u001b[0m",
      "\u001b[1;31mTypeError\u001b[0m                                 Traceback (most recent call last)",
      "\u001b[1;32m<ipython-input-3-ae1e8bfec6fe>\u001b[0m in \u001b[0;36m<module>\u001b[1;34m\u001b[0m\n\u001b[1;32m----> 1\u001b[1;33m \u001b[0mname\u001b[0m\u001b[1;33m[\u001b[0m\u001b[1;36m2\u001b[0m\u001b[1;33m]\u001b[0m\u001b[1;33m=\u001b[0m\u001b[1;34m'r'\u001b[0m\u001b[1;33m\u001b[0m\u001b[1;33m\u001b[0m\u001b[0m\n\u001b[0m",
      "\u001b[1;31mTypeError\u001b[0m: 'str' object does not support item assignment"
     ]
    }
   ],
   "source": [
    "name[2]='r'"
   ]
  },
  {
   "cell_type": "code",
   "execution_count": 4,
   "metadata": {},
   "outputs": [
    {
     "data": {
      "text/plain": [
       "2265233892552"
      ]
     },
     "execution_count": 4,
     "metadata": {},
     "output_type": "execute_result"
    }
   ],
   "source": [
    "id(name)"
   ]
  },
  {
   "cell_type": "code",
   "execution_count": 5,
   "metadata": {},
   "outputs": [],
   "source": [
    "name='Hardik'"
   ]
  },
  {
   "cell_type": "code",
   "execution_count": 6,
   "metadata": {},
   "outputs": [
    {
     "data": {
      "text/plain": [
       "2265234519520"
      ]
     },
     "execution_count": 6,
     "metadata": {},
     "output_type": "execute_result"
    }
   ],
   "source": [
    "id(name)"
   ]
  },
  {
   "cell_type": "code",
   "execution_count": 13,
   "metadata": {},
   "outputs": [
    {
     "data": {
      "text/plain": [
       "'kid'"
      ]
     },
     "execution_count": 13,
     "metadata": {},
     "output_type": "execute_result"
    }
   ],
   "source": [
    "name[5:2:-1]"
   ]
  },
  {
   "cell_type": "code",
   "execution_count": 1,
   "metadata": {},
   "outputs": [
    {
     "name": "stdout",
     "output_type": "stream",
     "text": [
      "True\n"
     ]
    }
   ],
   "source": [
    "a=\"Hard\"\n",
    "b=\"Hard\"\n",
    "print(id(a)==id(b))"
   ]
  },
  {
   "cell_type": "code",
   "execution_count": 2,
   "metadata": {},
   "outputs": [
    {
     "name": "stdout",
     "output_type": "stream",
     "text": [
      "False\n",
      "Dik\n",
      "Hard\n"
     ]
    }
   ],
   "source": [
    "a=\"Dik\"\n",
    "print(id(a)==id(b))\n",
    "print(a)\n",
    "print(b)"
   ]
  },
  {
   "cell_type": "code",
   "execution_count": 3,
   "metadata": {},
   "outputs": [
    {
     "name": "stdout",
     "output_type": "stream",
     "text": [
      "True\n"
     ]
    }
   ],
   "source": [
    "b=\"Dik\"\n",
    "print(id(a)==id(b))"
   ]
  },
  {
   "cell_type": "markdown",
   "metadata": {},
   "source": [
    "---\n",
    "---"
   ]
  },
  {
   "cell_type": "markdown",
   "metadata": {},
   "source": [
    "Functions and Arguments"
   ]
  },
  {
   "cell_type": "markdown",
   "metadata": {},
   "source": [
    "Arbitrary Arguments (No. of arguments unknown). \n",
    "1. We use * before an argument name.\n",
    "    - When you call the function with many arguments, they get wrapped into a Python tuple.\n",
    "    \n",
    "        OR <br><br>\n",
    "\n",
    "2. Passing Lists <br>\n",
    "\n",
    "We iterate over both of them using For Loop."
   ]
  },
  {
   "cell_type": "code",
   "execution_count": 1,
   "metadata": {},
   "outputs": [
    {
     "name": "stdout",
     "output_type": "stream",
     "text": [
      "Hello,  Hardik\n",
      "Hello,  HG\n",
      "Hello,  H506\n"
     ]
    }
   ],
   "source": [
    "def hellousrs(*names):\n",
    "    for name in names:\n",
    "        print(\"Hello, \",name)\n",
    "        \n",
    "hellousrs(\"Hardik\", \"HG\", \"H506\")"
   ]
  },
  {
   "cell_type": "code",
   "execution_count": 2,
   "metadata": {},
   "outputs": [
    {
     "name": "stdout",
     "output_type": "stream",
     "text": [
      "cake\n",
      "icecream\n",
      "shakes\n",
      "sweets\n"
     ]
    }
   ],
   "source": [
    "def menu(food):\n",
    "    for itm in food:\n",
    "        print(itm)\n",
    "desert = [\"cake\",'icecream','shakes','sweets']\n",
    "menu(desert)"
   ]
  },
  {
   "cell_type": "markdown",
   "metadata": {},
   "source": [
    "Pass keyword - placeholder for future code.\n",
    "\n",
    "You avoid getting an error where empty code is not allowed like in: if statements, loops, function definitions, or class definitions."
   ]
  },
  {
   "cell_type": "code",
   "execution_count": 3,
   "metadata": {},
   "outputs": [],
   "source": [
    "def func():\n",
    "    pass"
   ]
  },
  {
   "cell_type": "markdown",
   "metadata": {},
   "source": [
    "Recursion"
   ]
  },
  {
   "cell_type": "code",
   "execution_count": 4,
   "metadata": {},
   "outputs": [
    {
     "name": "stdout",
     "output_type": "stream",
     "text": [
      "36\n"
     ]
    }
   ],
   "source": [
    "def recursum(k):\n",
    "    if(k>0):\n",
    "        result = k + recursum(k-1)\n",
    "    else:\n",
    "        result=0\n",
    "    return result\n",
    "print(recursum(8))"
   ]
  },
  {
   "cell_type": "markdown",
   "metadata": {},
   "source": [
    "Factorial using Recursion"
   ]
  },
  {
   "cell_type": "code",
   "execution_count": 5,
   "metadata": {},
   "outputs": [
    {
     "name": "stdout",
     "output_type": "stream",
     "text": [
      "720\n"
     ]
    }
   ],
   "source": [
    "def fact(n):\n",
    "    if(n>1):\n",
    "        result=n*fact(n-1)\n",
    "    else:\n",
    "        result=1\n",
    "    return result\n",
    "print(fact(6))"
   ]
  },
  {
   "cell_type": "markdown",
   "metadata": {},
   "source": [
    "---"
   ]
  },
  {
   "cell_type": "markdown",
   "metadata": {},
   "source": [
    "List (Mutable Data Type)"
   ]
  },
  {
   "cell_type": "markdown",
   "metadata": {},
   "source": [
    "A single List can have multiple data types including lists itself. <br>\n",
    "List functions: append(new_number), insert(posn, value), remove(value), pop(index_value or no_vale - LIFO), max or min or sum (list)"
   ]
  },
  {
   "cell_type": "code",
   "execution_count": 1,
   "metadata": {},
   "outputs": [
    {
     "name": "stdout",
     "output_type": "stream",
     "text": [
      "Enter space separated integers for base list: \n",
      "10 20 30\n",
      "Action Keys: 1.Insert 2.Pop 3.Del 4.Extend 0.Exit : 1\n",
      "Position: 3\n",
      "Value: 40\n",
      "List:  [10, 20, 30, 40]\n",
      "\n",
      "Key: 0\n"
     ]
    }
   ],
   "source": [
    "# Amazing Program Switch case in Python, used functions, dictionaries and get method, lambda func\n",
    "# Took int inputs using list comprehension\n",
    "# Q3. By using insert() method, pop() method, del method and extend() method.\n",
    "# Make your own list to perform all these methods and print the modified list\n",
    "\n",
    "def insert_ls():\n",
    "    pos, val = int(input(\"Position: \")), int(input(\"Value: \"))\n",
    "    mylist.insert(pos, val)\n",
    "def pop_ls():\n",
    "    pos = int(input(\"Position: \"))\n",
    "    mylist.pop(pos)\n",
    "def del_ls():\n",
    "    start, end = int(input(\"Start Index: \")), int(input(\"End Index: \"))\n",
    "    del mylist[start : end]\n",
    "def extend_ls():\n",
    "    print(\"Enter values for new list\")\n",
    "    newlist = [int(val) for val in input().split()]\n",
    "    mylist.extend(newlist)\n",
    "\n",
    "def method(key):\n",
    "    action = {\n",
    "        1: insert_ls,\n",
    "        2: pop_ls,\n",
    "        3: del_ls,\n",
    "        4: extend_ls\n",
    "    }\n",
    "    action.get(key, lambda: print(\"\\nInvalid Action Key!\")) ()\n",
    "\n",
    "\n",
    "print(\"Enter space separated integers for base list: \")\n",
    "mylist = [int(val) for val in input().split()]\n",
    "\n",
    "key = int(input(\"Action Keys: 1.Insert 2.Pop 3.Del 4.Extend 0.Exit : \"))\n",
    "    \n",
    "while(key):\n",
    "    method(key)\n",
    "    print(\"List: \",mylist)\n",
    "    key=int(input(\"\\nKey: \"))"
   ]
  },
  {
   "cell_type": "code",
   "execution_count": 22,
   "metadata": {},
   "outputs": [
    {
     "name": "stdout",
     "output_type": "stream",
     "text": [
      "2   20 \n",
      "Length:  10 \n",
      "\n",
      "2 8 10 12 14 16 18 20\n",
      "8 10 12 14 16 18 20\n",
      "8 10 200 12 14 16 18 20\n",
      "\n",
      "[8, 10, 200, 12, 14, 16, 18, 20, 1, 3, 5, 7, 9]\n",
      "[1, 3, 5, 7, 8, 9, 10, 12, 14, 16, 18, 20, 200]\n",
      "[200, 20, 18, 16, 14, 12, 10, 9, 8, 7, 5, 3, 1]\n",
      "\n",
      "Mississippi   s: 4   iss: 2\n"
     ]
    }
   ],
   "source": [
    "even = [2,4,6,8,10,12,14,16,18,20]\n",
    "print(min(even), \" \", max(even), \"\\nLength: \", len(even), \"\\n\")\n",
    "\n",
    "del even[1:3]\n",
    "print(*even)\n",
    "even.pop(0)\n",
    "print(*even)\n",
    "even.insert(2,200)\n",
    "print(*even)\n",
    "\n",
    "odd = [1,3,5,7,9]\n",
    "even.extend(odd)\n",
    "print()\n",
    "print(even)\n",
    "even.sort()\n",
    "print(even)\n",
    "even.reverse()\n",
    "print(even)\n",
    "\n",
    "print(\"\\nMississippi \",\" s:\", \"Mississippi\".count('s'), \"  iss:\", \"Mississippi\".count('iss'))"
   ]
  },
  {
   "cell_type": "code",
   "execution_count": 7,
   "metadata": {},
   "outputs": [
    {
     "name": "stdout",
     "output_type": "stream",
     "text": [
      "mouse\n",
      "keyboard\n",
      "CPU\n",
      "printer\n",
      "['mouse', 'keyboard', 'CPU', 'printer']\n",
      "['mouse', 'keyboard', 'CPU'] \n",
      "\n",
      "2651498187848\n",
      "2651498187848\n"
     ]
    }
   ],
   "source": [
    "computer_parts = [\"mouse\",\"keyboard\",\"CPU\",\"printer\"]\n",
    "for part in computer_parts:\n",
    "    print(part)\n",
    "# or\n",
    "print(computer_parts)\n",
    "\n",
    "print(computer_parts[0:-1],\"\\n\")\n",
    "\n",
    "print(id(computer_parts))\n",
    "computer_parts += [\"monitor\"]\n",
    "print(id(computer_parts))"
   ]
  },
  {
   "cell_type": "code",
   "execution_count": 5,
   "metadata": {},
   "outputs": [
    {
     "name": "stdout",
     "output_type": "stream",
     "text": [
      "False\n"
     ]
    }
   ],
   "source": [
    "l=[1,2,25]\n",
    "k=[1,2,25]\n",
    "print(l is k)"
   ]
  },
  {
   "cell_type": "code",
   "execution_count": 6,
   "metadata": {},
   "outputs": [
    {
     "name": "stdout",
     "output_type": "stream",
     "text": [
      "True\n",
      "True\n",
      "[1, 2]\n",
      "[1, 2]\n"
     ]
    }
   ],
   "source": [
    "# Aliasing\n",
    "m=l\n",
    "print(l is m)\n",
    "l.pop()\n",
    "print(l is m)\n",
    "print(l)\n",
    "print(m)"
   ]
  },
  {
   "cell_type": "code",
   "execution_count": 7,
   "metadata": {},
   "outputs": [
    {
     "name": "stdout",
     "output_type": "stream",
     "text": [
      "False\n",
      "[1, 2]\n",
      "[1, 2]\n",
      "[1, 2, 35]\n",
      "[1, 2]\n"
     ]
    }
   ],
   "source": [
    "# Cloning\n",
    "n=l[:]\n",
    "print(l is n)\n",
    "print(l)\n",
    "print(n)\n",
    "l.append(35)\n",
    "print(l)\n",
    "print(n)"
   ]
  },
  {
   "cell_type": "code",
   "execution_count": 8,
   "metadata": {},
   "outputs": [
    {
     "name": "stdout",
     "output_type": "stream",
     "text": [
      "Address of my_list is: 1933306044360\n"
     ]
    }
   ],
   "source": [
    "my_list = ['cat', 'dog', 'bunny']\n",
    "print('Address of my_list is: {}'.format(id(my_list)))"
   ]
  },
  {
   "cell_type": "code",
   "execution_count": 10,
   "metadata": {},
   "outputs": [
    {
     "name": "stdout",
     "output_type": "stream",
     "text": [
      "Address of my_list is: 1933306044360\n",
      "['sugar glider', 'dog', 'bunny']\n"
     ]
    }
   ],
   "source": [
    "my_list[0] = 'sugar glider'\n",
    "print('Address of my_list is: {}'.format(id(my_list)))\n",
    "print(my_list)"
   ]
  },
  {
   "cell_type": "code",
   "execution_count": 14,
   "metadata": {},
   "outputs": [
    {
     "name": "stdout",
     "output_type": "stream",
     "text": [
      "1933306849240\n",
      "1933306849240\n",
      "1933306044360\n"
     ]
    }
   ],
   "source": [
    "print(id(my_list[0]))\n",
    "my_list[0] = 'rabbit'\n",
    "print(id(my_list[0]))\n",
    "print(id(my_list))"
   ]
  },
  {
   "cell_type": "markdown",
   "metadata": {},
   "source": [
    "When we modify a list and change its values in place, the list keeps the same address. However, the address of the value that you changed will have a different address."
   ]
  },
  {
   "cell_type": "markdown",
   "metadata": {},
   "source": [
    "In Python Data Types\n",
    "> Mutable objects:\n",
    "list, dict, set\n",
    "<br>\n",
    "Immutable objects:\n",
    "integer, float, string, tuple, bool, frozenset"
   ]
  },
  {
   "cell_type": "markdown",
   "metadata": {},
   "source": [
    "Note:\n",
    ">Immutability on TUPLES is only partly true. The tuple itself cannot be modified, but objects referenced by the tuple can be modified. <br> If the tuple has an immutable field like a string, then the tuple cannot be modified and it is sometimes called “non-transitive immutability.” <br> But a mutable field like a list can be edited, even if it’s embedded in the “immutable” tuple."
   ]
  },
  {
   "cell_type": "markdown",
   "metadata": {},
   "source": [
    "For a Function:\n",
    "> If a mutable object is called by reference in a function, the original variable may be changed. If you want to avoid changing the original variable, you need to copy it to another variable. <br>\n",
    "When immutable objects are called by reference in a function, its value cannot be changed."
   ]
  },
  {
   "cell_type": "code",
   "execution_count": 15,
   "metadata": {},
   "outputs": [
    {
     "name": "stdout",
     "output_type": "stream",
     "text": [
      "9\n"
     ]
    }
   ],
   "source": [
    "def increment(n):\n",
    "    n += 1\n",
    "\n",
    "val = 9\n",
    "increment(val)\n",
    "print(val)"
   ]
  },
  {
   "cell_type": "markdown",
   "metadata": {},
   "source": [
    "The variable val refers to the object with value 9. Python keeps an array of integer objects between -5 and 256. When you create an integer in that range, you get back a reference to the already existing object. <br>\n",
    "When we pass val as a function argument to increment(n) function, the local variable n refers to the same object. However, integers are immutable so we need to create a new object with the value 10 and assign it to the variable n. <br>\n",
    "The variable n is pointing to a different object from what val is pointing."
   ]
  },
  {
   "cell_type": "code",
   "execution_count": 16,
   "metadata": {},
   "outputs": [
    {
     "name": "stdout",
     "output_type": "stream",
     "text": [
      "[1, 2, 3]\n"
     ]
    }
   ],
   "source": [
    "def assign_value(n, v):\n",
    "    n = v\n",
    "\n",
    "list1 = [1, 2, 3]\n",
    "list2 = [4, 5, 6]\n",
    "assign_value(list1, list2)\n",
    "print(list1)"
   ]
  },
  {
   "cell_type": "markdown",
   "metadata": {},
   "source": [
    "The variables n, v, and list2 all point to the list object [4, 5, 6], while list1 still points to the list object [1, 2, 3]. This is why when we print list1, we get the answer: [1, 2, 3]"
   ]
  },
  {
   "cell_type": "code",
   "execution_count": 17,
   "metadata": {},
   "outputs": [
    {
     "name": "stdout",
     "output_type": "stream",
     "text": [
      "[1, 2, 3]\n",
      "[1, 2, 3]\n",
      "True\n",
      "False\n",
      "False\n"
     ]
    }
   ],
   "source": [
    "def copy_list(l):\n",
    "    return l[:]\n",
    "\n",
    "my_list = [1, 2, 3]\n",
    "new_list = copy_list(my_list)\n",
    "print(my_list)\n",
    "\n",
    "print(new_list)\n",
    "\n",
    "print(my_list == new_list)\n",
    "\n",
    "print(my_list is new_list)\n",
    "\n",
    "print(id(my_list) == id(new_list))"
   ]
  },
  {
   "cell_type": "markdown",
   "metadata": {},
   "source": [
    "Tuple (Non mutable Data Type)"
   ]
  },
  {
   "cell_type": "markdown",
   "metadata": {},
   "source": [
    "Tuple operations: count, index, etc."
   ]
  },
  {
   "cell_type": "code",
   "execution_count": 28,
   "metadata": {},
   "outputs": [],
   "source": [
    "tup=(12,45,66,72)"
   ]
  },
  {
   "cell_type": "code",
   "execution_count": 29,
   "metadata": {},
   "outputs": [
    {
     "ename": "TypeError",
     "evalue": "'tuple' object does not support item assignment",
     "output_type": "error",
     "traceback": [
      "\u001b[1;31m---------------------------------------------------------------------------\u001b[0m",
      "\u001b[1;31mTypeError\u001b[0m                                 Traceback (most recent call last)",
      "\u001b[1;32m<ipython-input-29-977df760e1a5>\u001b[0m in \u001b[0;36m<module>\u001b[1;34m\u001b[0m\n\u001b[1;32m----> 1\u001b[1;33m \u001b[0mtup\u001b[0m\u001b[1;33m[\u001b[0m\u001b[1;36m1\u001b[0m\u001b[1;33m]\u001b[0m\u001b[1;33m=\u001b[0m\u001b[1;36m21\u001b[0m\u001b[1;33m\u001b[0m\u001b[1;33m\u001b[0m\u001b[0m\n\u001b[0m",
      "\u001b[1;31mTypeError\u001b[0m: 'tuple' object does not support item assignment"
     ]
    }
   ],
   "source": [
    "tup[1]=21"
   ]
  },
  {
   "cell_type": "code",
   "execution_count": 31,
   "metadata": {},
   "outputs": [
    {
     "data": {
      "text/plain": [
       "45"
      ]
     },
     "execution_count": 31,
     "metadata": {},
     "output_type": "execute_result"
    }
   ],
   "source": [
    "tup[1]"
   ]
  },
  {
   "cell_type": "markdown",
   "metadata": {},
   "source": [
    "Set (Mutable Data Type) (No Indexing) (Based on Hash Concept)\n",
    "\n",
    "> Mutable: We can add or remove items from a set.\n",
    "\n",
    ">A set is an unordered collection of items. Every set element is unique (no duplicates) and must be immutable (cannot be changed).\n",
    "\n",
    ">Sets can also be used to perform mathematical set operations like union, intersection, symmetric difference, etc."
   ]
  },
  {
   "cell_type": "code",
   "execution_count": 3,
   "metadata": {},
   "outputs": [],
   "source": [
    "s={12,23,12,45,32,72,72,15}"
   ]
  },
  {
   "cell_type": "code",
   "execution_count": 4,
   "metadata": {},
   "outputs": [
    {
     "data": {
      "text/plain": [
       "{12, 15, 23, 32, 45, 72}"
      ]
     },
     "execution_count": 4,
     "metadata": {},
     "output_type": "execute_result"
    }
   ],
   "source": [
    "s"
   ]
  },
  {
   "cell_type": "code",
   "execution_count": 1,
   "metadata": {},
   "outputs": [
    {
     "ename": "NameError",
     "evalue": "name 's' is not defined",
     "output_type": "error",
     "traceback": [
      "\u001b[1;31m---------------------------------------------------------------------------\u001b[0m",
      "\u001b[1;31mNameError\u001b[0m                                 Traceback (most recent call last)",
      "\u001b[1;32m<ipython-input-1-f8bb2b116405>\u001b[0m in \u001b[0;36m<module>\u001b[1;34m\u001b[0m\n\u001b[1;32m----> 1\u001b[1;33m \u001b[0ms\u001b[0m\u001b[1;33m[\u001b[0m\u001b[1;36m1\u001b[0m\u001b[1;33m]\u001b[0m\u001b[1;33m\u001b[0m\u001b[1;33m\u001b[0m\u001b[0m\n\u001b[0m",
      "\u001b[1;31mNameError\u001b[0m: name 's' is not defined"
     ]
    }
   ],
   "source": [
    "s[1]"
   ]
  },
  {
   "cell_type": "markdown",
   "metadata": {},
   "source": [
    "Mutable"
   ]
  },
  {
   "cell_type": "code",
   "execution_count": 5,
   "metadata": {},
   "outputs": [],
   "source": [
    "s.add(2)"
   ]
  },
  {
   "cell_type": "code",
   "execution_count": 6,
   "metadata": {},
   "outputs": [
    {
     "data": {
      "text/plain": [
       "{2, 12, 15, 23, 32, 45, 72}"
      ]
     },
     "execution_count": 6,
     "metadata": {},
     "output_type": "execute_result"
    }
   ],
   "source": [
    "s"
   ]
  },
  {
   "cell_type": "code",
   "execution_count": 7,
   "metadata": {},
   "outputs": [],
   "source": [
    "s.update([4, 5], {1, 6, 8})"
   ]
  },
  {
   "cell_type": "code",
   "execution_count": 8,
   "metadata": {},
   "outputs": [
    {
     "data": {
      "text/plain": [
       "{1, 2, 4, 5, 6, 8, 12, 15, 23, 32, 45, 72}"
      ]
     },
     "execution_count": 8,
     "metadata": {},
     "output_type": "execute_result"
    }
   ],
   "source": [
    "s"
   ]
  },
  {
   "cell_type": "markdown",
   "metadata": {},
   "source": [
    "For deletion: discard()---no error and remove()---error if element not present."
   ]
  },
  {
   "cell_type": "code",
   "execution_count": 9,
   "metadata": {},
   "outputs": [
    {
     "ename": "KeyError",
     "evalue": "3",
     "output_type": "error",
     "traceback": [
      "\u001b[1;31m---------------------------------------------------------------------------\u001b[0m",
      "\u001b[1;31mKeyError\u001b[0m                                  Traceback (most recent call last)",
      "\u001b[1;32m<ipython-input-9-b06e0f5ff900>\u001b[0m in \u001b[0;36m<module>\u001b[1;34m\u001b[0m\n\u001b[1;32m----> 1\u001b[1;33m \u001b[0ms\u001b[0m\u001b[1;33m.\u001b[0m\u001b[0mremove\u001b[0m\u001b[1;33m(\u001b[0m\u001b[1;36m3\u001b[0m\u001b[1;33m)\u001b[0m\u001b[1;33m\u001b[0m\u001b[1;33m\u001b[0m\u001b[0m\n\u001b[0m",
      "\u001b[1;31mKeyError\u001b[0m: 3"
     ]
    }
   ],
   "source": [
    "s.remove(3)"
   ]
  },
  {
   "cell_type": "markdown",
   "metadata": {},
   "source": [
    "---\n",
    "---"
   ]
  },
  {
   "cell_type": "markdown",
   "metadata": {},
   "source": [
    "Program 1: Input keyword"
   ]
  },
  {
   "cell_type": "code",
   "execution_count": 2,
   "metadata": {},
   "outputs": [
    {
     "name": "stdout",
     "output_type": "stream",
     "text": [
      "First Number 12\n",
      "Second Number 23\n",
      "Sum of int = 35\n"
     ]
    }
   ],
   "source": [
    "num1=input('First Number ')\n",
    "num2=input('Second Number ')\n",
    "sum = int(num1) + int(num2)\n",
    "print(\"Sum of int =\",sum)"
   ]
  },
  {
   "cell_type": "markdown",
   "metadata": {},
   "source": [
    "Program 2: Using cmath functions"
   ]
  },
  {
   "cell_type": "code",
   "execution_count": 5,
   "metadata": {},
   "outputs": [
    {
     "name": "stdout",
     "output_type": "stream",
     "text": [
      "Enter number -25\n",
      "5j\n"
     ]
    }
   ],
   "source": [
    "import cmath\n",
    "num = float(input('Enter number '))\n",
    "num_sqrt=cmath.sqrt(num)\n",
    "print(num_sqrt)"
   ]
  },
  {
   "cell_type": "markdown",
   "metadata": {},
   "source": [
    "Program 3: How to swap 2 variables"
   ]
  },
  {
   "cell_type": "code",
   "execution_count": 7,
   "metadata": {},
   "outputs": [
    {
     "name": "stdout",
     "output_type": "stream",
     "text": [
      "x= 3 y= 2\n"
     ]
    }
   ],
   "source": [
    "x=2\n",
    "y=3\n",
    "temp=x\n",
    "x=y\n",
    "y=temp\n",
    "print(\"x=\",x,\"y=\",y)"
   ]
  },
  {
   "cell_type": "code",
   "execution_count": 5,
   "metadata": {},
   "outputs": [
    {
     "name": "stdout",
     "output_type": "stream",
     "text": [
      "x= 3 y= 2\n"
     ]
    }
   ],
   "source": [
    "x=2\n",
    "y=3\n",
    "x,y=y,x # DOUBT\n",
    "print(\"x=\",x,\"y=\",y)"
   ]
  },
  {
   "cell_type": "markdown",
   "metadata": {},
   "source": [
    "Above Doubt Answers:\n",
    "This works for swapping because the right hand side of the \"=\" is evaluated first.\n",
    "The way this mechanism works is a combination of two features -- forming implicit tuples and tuple/list unpacking:\n",
    "\n",
    ">When you do something = x, y. What Python will do is implicitly create a tuple (a sort of immutable list) comprising of the two elements, x and y.\n",
    "\n",
    ">The second feature is tuple/list unpacking. Whenever you have a series of variables on the left-hand side, and any sort of list, tuple, or other collection on the other, Python will attempt to match up each of the elements in the right to the ones on the left.\n",
    "\n",
    "NOTE:\n",
    "Remember that Python operates as a stack machine. Load_a, Load_b, and ROT_TWO.\n",
    "In this case, it optimized the assignment to a ROT_TWO (i.e. swap) instruction. There's also a ROT_THREE instruction. Above 3 it works like the tuple mechanism shown at top."
   ]
  },
  {
   "cell_type": "markdown",
   "metadata": {},
   "source": [
    "Program 4: Quadratic Roots"
   ]
  },
  {
   "cell_type": "code",
   "execution_count": 8,
   "metadata": {},
   "outputs": [
    {
     "name": "stdout",
     "output_type": "stream",
     "text": [
      "Roots are (-2.5+0.8660254037844386j) (-2.5-0.8660254037844386j)\n"
     ]
    }
   ],
   "source": [
    "import cmath\n",
    "\n",
    "a=1\n",
    "b=5\n",
    "c=7\n",
    "\n",
    "d=b**2-4*a*c\n",
    "\n",
    "root1 = (-b+cmath.sqrt(d))/(2*a)\n",
    "root2 = (-b-cmath.sqrt(d))/(2*a)\n",
    "\n",
    "print(\"Roots are\",root1,root2)"
   ]
  },
  {
   "cell_type": "markdown",
   "metadata": {},
   "source": [
    "\n",
    "Program for Armstrong Number"
   ]
  },
  {
   "cell_type": "code",
   "execution_count": 23,
   "metadata": {},
   "outputs": [
    {
     "name": "stdout",
     "output_type": "stream",
     "text": [
      "Enter your armstrong guess: 1634\n",
      "Yes an Armstrong number\n"
     ]
    }
   ],
   "source": [
    "# Armstrong Number Checker => 1634 = 1^4 + 6^4 + 3^4 + 4^4\n",
    "n = input(\"Enter your armstrong guess: \")\n",
    "order = len(n)\n",
    "sum = 0\n",
    "n = int(n)\n",
    "copy = n\n",
    "\n",
    "while(n>0):\n",
    "    digit = n%10\n",
    "    sum += digit**order\n",
    "    n = n//10   #FLOOR Division\n",
    "\n",
    "if(sum==copy):\n",
    "    print(\"Yes an Armstrong number\")\n",
    "else:\n",
    "    print(\"Try again...\")"
   ]
  },
  {
   "cell_type": "markdown",
   "metadata": {},
   "source": [
    "\n",
    "Program 5: Adding Matrices"
   ]
  },
  {
   "cell_type": "markdown",
   "metadata": {},
   "source": [
    "<br>\n",
    "#### for a in ace:<br>\n",
    "  * print(a)\n",
    "    \n",
    "#### len(mat1)\n",
    "\n",
    "For loops take one level up (...Similarly len() takes count of one level up)\n",
    "> if ace is 3d, Loop takes all 2d sheets\n",
    "\n",
    "> if ace is 2d, Loop takes all 1d rows\n",
    "\n",
    "> if ace is 1d, Loop takes all individual elements"
   ]
  },
  {
   "cell_type": "code",
   "execution_count": 15,
   "metadata": {},
   "outputs": [
    {
     "name": "stdout",
     "output_type": "stream",
     "text": [
      "Adding list directly gives [[12, 7, 3], [4, 5, 6], [7, 8, 9], [5, 8, 1], [6, 7, 3], [4, 5, 9]]\n",
      "Individual Added values\n",
      "17\n",
      "15\n",
      "4\n",
      "10\n",
      "12\n",
      "9\n",
      "11\n",
      "13\n",
      "18\n",
      "Result of Shallow List \n",
      "[11, 13, 18]\n",
      "[11, 13, 18]\n",
      "[11, 13, 18]\n",
      "Result using individual list objects\n",
      "[17, 15, 4]\n",
      "[10, 12, 9]\n",
      "[11, 13, 18]\n",
      "\n",
      "Summation of Matrix [[17, 15, 4], [10, 12, 9], [11, 13, 18]]\n"
     ]
    }
   ],
   "source": [
    "# 3x3 Size\n",
    "\n",
    "mat1=[[12,7,3],[4,5,6],[7,8,9]]\n",
    "mat2=[[5,8,1],[6,7,3],[4,5,9]]\n",
    "\n",
    "result1=mat1+mat2\n",
    "print(\"Adding list directly gives\",result1)\n",
    "\n",
    "result2=[[0]*3]*3\n",
    "rows, cols = (3,3)\n",
    "result3=[[0 for i in range(cols)] for j in range(rows)]\n",
    "\n",
    "print(\"Individual Added values\")\n",
    "\n",
    "for i in range(len(mat1)):\n",
    "    for j in range(len(mat1[0])):\n",
    "        result2[i][j]=mat1[i][j]+mat2[i][j]\n",
    "        result3[i][j]=result2[i][j]\n",
    "        print(result2[i][j])\n",
    "\n",
    "print(\"Result of Shallow List \")\n",
    "for r in result2:\n",
    "    print(r)\n",
    "\n",
    "print(\"Result using individual list objects\")\n",
    "for r in result3:\n",
    "    print(r)\n",
    "\n",
    "print(\"\\nSummation of Matrix\",result3)"
   ]
  },
  {
   "cell_type": "markdown",
   "metadata": {},
   "source": [
    "This peculiar functioning is because Python uses shallow lists\n",
    "when we create a 2d array as “arr = [[0] * cols] * rows” :-\n",
    "1. Only one integer object is created. (Here, integer 0)\n",
    "2. A single 1d list is created and all its indices point to the same int object in point 1. ([0 -> 0, 1 -> 0, 2 -> 0])\n",
    "3. Now, arr[0], arr[1], arr[2] …. arr[n-1] all point to the same list object above in point 2. \n",
    "\n",
    "So when 2d arrays are created like this, changing values at a certain row will effect all the rows since there is essentially only one integer object and only one list object being referenced by the all the rows of the array.\n",
    "\n",
    "The other method creates 3 separate list objects. \n",
    "\n",
    "One way to check this is using the ‘is’ operator which checks if the two operands refer to the same object. See cell below."
   ]
  },
  {
   "cell_type": "code",
   "execution_count": 16,
   "metadata": {},
   "outputs": [
    {
     "name": "stdout",
     "output_type": "stream",
     "text": [
      "False\n",
      "True\n"
     ]
    }
   ],
   "source": [
    "print(result3[0] is result3[1]) # prints False\n",
    "\n",
    "print(result2[0] is result2[1]) # prints True"
   ]
  },
  {
   "cell_type": "markdown",
   "metadata": {},
   "source": [
    "HW Questions"
   ]
  },
  {
   "cell_type": "markdown",
   "metadata": {},
   "source": [
    "Program 6: Multiply 2 matrices Program 7: Transpose of a Matrix or Assignment 1 Qs"
   ]
  },
  {
   "cell_type": "markdown",
   "metadata": {},
   "source": [
    "---\n",
    "---"
   ]
  },
  {
   "cell_type": "markdown",
   "metadata": {},
   "source": [
    "08/02/21 : Numpy Library (Numerical Python)"
   ]
  },
  {
   "cell_type": "markdown",
   "metadata": {},
   "source": [
    "NumPy is a Python library used for working with arrays.\n",
    "\n",
    "It also has functions for working in domain of linear algebra, fourier transform, and matrices."
   ]
  },
  {
   "cell_type": "code",
   "execution_count": 1,
   "metadata": {},
   "outputs": [
    {
     "name": "stdout",
     "output_type": "stream",
     "text": [
      "[1 2 3]\n"
     ]
    }
   ],
   "source": [
    "import numpy as np\n",
    "arr = np.array([1,2,3])\n",
    "print(arr)"
   ]
  },
  {
   "cell_type": "markdown",
   "metadata": {},
   "source": [
    "array() # Create array\n",
    "\n",
    "linspace() # Line space (start,end,no. of parts)\n",
    "\n",
    "logspace() # Log 10 power space (start,end,no. of samples)\n",
    "\n",
    "arange() # Similar to linespace but (start,end,gap value)\n",
    "\n",
    "zeros() # Array of 0s (5,int)...\n",
    "\n",
    "ones() # Array of 1s (5,int)..."
   ]
  },
  {
   "cell_type": "code",
   "execution_count": 8,
   "metadata": {},
   "outputs": [
    {
     "name": "stdout",
     "output_type": "stream",
     "text": [
      "(2, 3)\n",
      "[[1 2 3]\n",
      " [4 5 6]] \n",
      "\n",
      "[[1 2]\n",
      " [3 4]\n",
      " [5 6]] \n",
      "\n",
      "[[1 2 3 4 5 6]]\n"
     ]
    }
   ],
   "source": [
    "arr = np.array([[1,2,3],[4,5,6]])\n",
    "print (arr.shape)\n",
    "print(arr,\"\\n\")\n",
    "arr1=arr\n",
    "arr1.shape=(3,2)\n",
    "print(arr1,\"\\n\")\n",
    "arr2=arr1.reshape(1,6)\n",
    "print(arr2)\n",
    "arr3"
   ]
  },
  {
   "cell_type": "code",
   "execution_count": 11,
   "metadata": {},
   "outputs": [
    {
     "name": "stdout",
     "output_type": "stream",
     "text": [
      "[ 0  1  2  3  4  5  6  7  8  9 10 11 12 13 14 15 16 17 18 19 20 21 22 23] \n",
      "\n",
      "[[[ 0  1  2]\n",
      "  [ 3  4  5]\n",
      "  [ 6  7  8]\n",
      "  [ 9 10 11]]\n",
      "\n",
      " [[12 13 14]\n",
      "  [15 16 17]\n",
      "  [18 19 20]\n",
      "  [21 22 23]]]\n"
     ]
    }
   ],
   "source": [
    "arr4=np.arange(24)\n",
    "print(arr4,\"\\n\")\n",
    "arr5=arr4.reshape(2,4,3)\n",
    "print(arr5)"
   ]
  },
  {
   "cell_type": "code",
   "execution_count": 13,
   "metadata": {},
   "outputs": [
    {
     "name": "stdout",
     "output_type": "stream",
     "text": [
      "[0 0 0 0 0]\n"
     ]
    }
   ],
   "source": [
    "arr=np.zeros(5,dtype=int)\n",
    "print(arr)"
   ]
  },
  {
   "cell_type": "markdown",
   "metadata": {},
   "source": [
    "<br>\n",
    "To write Excel File xls,csv files - Library: xlwt"
   ]
  },
  {
   "cell_type": "code",
   "execution_count": 1,
   "metadata": {},
   "outputs": [],
   "source": [
    "import xlwt\n",
    "\n",
    "from xlwt import Workbook\n",
    "import random\n",
    "\n",
    "wb=Workbook()\n",
    "\n",
    "sheet1=wb.add_sheet('Sheet1')\n",
    "\n",
    "for i in range(50):\n",
    "    n1 = random.randint(1,15)\n",
    "    n2 = random.randint(1,20)\n",
    "    n3 = (n1+n2)**2\n",
    "    \n",
    "    sheet1.write(i,0,n1)\n",
    "    sheet1.write(i,1,n2)\n",
    "    sheet1.write(i,2,n3)\n",
    "    \n",
    "wb.save('Square_Func.xls')"
   ]
  },
  {
   "cell_type": "markdown",
   "metadata": {},
   "source": [
    "To manipulate big data we have to use pandas."
   ]
  },
  {
   "cell_type": "code",
   "execution_count": null,
   "metadata": {},
   "outputs": [],
   "source": []
  }
 ],
 "metadata": {
  "kernelspec": {
   "display_name": "Python 3",
   "language": "python",
   "name": "python3"
  },
  "language_info": {
   "codemirror_mode": {
    "name": "ipython",
    "version": 3
   },
   "file_extension": ".py",
   "mimetype": "text/x-python",
   "name": "python",
   "nbconvert_exporter": "python",
   "pygments_lexer": "ipython3",
   "version": "3.7.3"
  }
 },
 "nbformat": 4,
 "nbformat_minor": 2
}
